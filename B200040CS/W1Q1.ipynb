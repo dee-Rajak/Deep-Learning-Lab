{
  "nbformat": 4,
  "nbformat_minor": 0,
  "metadata": {
    "colab": {
      "provenance": []
    },
    "kernelspec": {
      "name": "python3",
      "display_name": "Python 3"
    },
    "language_info": {
      "name": "python"
    }
  },
  "cells": [
    {
      "cell_type": "code",
      "execution_count": 1,
      "metadata": {
        "id": "9IwaKGcly_2R"
      },
      "outputs": [],
      "source": [
        "class Thermostat:\n",
        "    def __init__(self):\n",
        "        pass\n",
        "\n",
        "    def adjust_temperature(self, current_time, external_temp, user_at_home, user_preferred_temp, user_away):\n",
        "        if user_at_home:\n",
        "            return user_preferred_temp\n",
        "        else:\n",
        "            if current_time >= 6 and current_time < 8 and external_temp < 65:\n",
        "                return 70\n",
        "            elif current_time >= 8 and current_time < 17 and external_temp > 75:\n",
        "                return 72\n",
        "            elif (current_time >= 17 or current_time < 6) and external_temp < 60:\n",
        "                return 65\n",
        "            else:\n",
        "                if user_away:\n",
        "\n",
        "                    return 60\n",
        "\n",
        "                else:\n",
        "                    return None\n"
      ]
    },
    {
      "cell_type": "code",
      "source": [
        "def main():\n",
        "    current_time = int(input(\"Enter current time (in 24-hour format): \"))\n",
        "    external_temp = float(input(\"Enter external temperature (in °F): \"))\n",
        "    user_at_home = input(\"Is the user at home? (yes/no): \").lower() == \"yes\"\n",
        "    user_preferred_temp = float(input(\"Enter user's preferred temperature (in °F): \"))\n",
        "    user_away = input(\"Is the user away from home? (yes/no): \").lower() == \"yes\"\n",
        "\n",
        "\n",
        "    thermostat = Thermostat()\n",
        "    adjusted_temp = thermostat.adjust_temperature(current_time, external_temp, user_at_home, user_preferred_temp, user_away)\n",
        "\n",
        "\n",
        "    if adjusted_temp is not None:\n",
        "        print(f\"Adjusted temperature: {adjusted_temp} °F\")\n",
        "    else:\n",
        "        print(\"No rule matched for adjusting temperature.\")"
      ],
      "metadata": {
        "id": "XYXvbKAqzO7Z"
      },
      "execution_count": 2,
      "outputs": []
    },
    {
      "cell_type": "code",
      "source": [
        "if __name__ == \"__main__\":\n",
        "    main()"
      ],
      "metadata": {
        "colab": {
          "base_uri": "https://localhost:8080/"
        },
        "id": "tHZGHBCGzWPR",
        "outputId": "8716906f-162c-45ad-de3b-de16f49fa023"
      },
      "execution_count": 3,
      "outputs": [
        {
          "output_type": "stream",
          "name": "stdout",
          "text": [
            "Enter current time (in 24-hour format): 18\n",
            "Enter external temperature (in °F): 68\n",
            "Is the user at home? (yes/no): yes\n",
            "Enter user's preferred temperature (in °F): 65\n",
            "Is the user away from home? (yes/no): no\n",
            "Adjusted temperature: 65.0 °F\n"
          ]
        }
      ]
    }
  ]
}