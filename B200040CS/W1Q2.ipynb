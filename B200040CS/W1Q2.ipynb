{
  "nbformat": 4,
  "nbformat_minor": 0,
  "metadata": {
    "colab": {
      "provenance": []
    },
    "kernelspec": {
      "name": "python3",
      "display_name": "Python 3"
    },
    "language_info": {
      "name": "python"
    }
  },
  "cells": [
    {
      "cell_type": "code",
      "execution_count": 1,
      "metadata": {
        "id": "xcwLgiR4zDtH"
      },
      "outputs": [],
      "source": [
        "import datetime\n",
        "\n",
        "\n",
        "class SmartLightingSystem:\n",
        "    def __init__(self):\n",
        "        pass\n",
        "\n",
        "\n",
        "    def adjust_lighting(self, current_time, num_people_at_home):\n",
        "        if num_people_at_home == 0:\n",
        "            return \"Switch off lights\"\n",
        "\n",
        "        if current_time.hour >= 6 and current_time.hour < 18:\n",
        "            return \"Dim lights\"\n",
        "        else:\n",
        "            return \"Bright lights\"\n",
        "        if current_time.hour >= 23 or current_time.hour < 6:\n",
        "            return \"Switch off lights\"\n",
        "        elif current_time.hour == 6:\n",
        "            return \"Dim lights\"\n"
      ]
    },
    {
      "cell_type": "code",
      "source": [
        "def main():\n",
        "    current_time = datetime.datetime.now()\n",
        "    num_people_at_home = int(input(\"Enter the number of people at home: \"))\n",
        "\n",
        "\n",
        "    smart_lighting_system = SmartLightingSystem()\n",
        "    lighting_action = smart_lighting_system.adjust_lighting(current_time, num_people_at_home)\n",
        "\n",
        "\n",
        "    print(\"Lighting action:\", lighting_action)"
      ],
      "metadata": {
        "id": "zTWfzIYHzcM-"
      },
      "execution_count": 2,
      "outputs": []
    },
    {
      "cell_type": "code",
      "source": [
        "if __name__ == \"__main__\":\n",
        "    main()"
      ],
      "metadata": {
        "colab": {
          "base_uri": "https://localhost:8080/"
        },
        "id": "o81Fss_uzhIh",
        "outputId": "df778de7-903b-4583-c796-763466a2097b"
      },
      "execution_count": 3,
      "outputs": [
        {
          "output_type": "stream",
          "name": "stdout",
          "text": [
            "Enter the number of people at home: 4\n",
            "Lighting action: Bright lights\n"
          ]
        }
      ]
    }
  ]
}